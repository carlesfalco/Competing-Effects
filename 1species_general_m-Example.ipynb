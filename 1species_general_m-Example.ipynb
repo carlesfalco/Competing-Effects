{
 "cells": [
  {
   "cell_type": "code",
   "execution_count": 1,
   "metadata": {},
   "outputs": [],
   "source": [
    "import numpy as np\n",
    "import numpy.random as ran\n",
    "from scipy.integrate import ode\n",
    "import matplotlib.pyplot as plt\n",
    "import matplotlib\n",
    "import time\n",
    "from matplotlib import cm\n",
    "import warnings\n",
    "warnings.filterwarnings(\"always\")\n",
    "from matplotlib import rcParams\n",
    "\n",
    "params = {'legend.fontsize': 'medium',\n",
    "         'axes.labelsize': 'large',\n",
    "         'axes.titlesize':'17',\n",
    "         'xtick.labelsize':'medium',\n",
    "         'ytick.labelsize':'medium',\n",
    "         'font.family': 'sans-serif',\n",
    "         'text.usetex': True}\n",
    "\n",
    "rcParams.update(params)\n",
    "\n",
    "class CH1species:\n",
    "    \n",
    "    def __init__(self,L,N,dt,init_rho,tmax,m,chi):\n",
    "        self.kperiod = 4\n",
    "        self.L = L\n",
    "        self.N = N\n",
    "        self.chi = chi\n",
    "        self.m = m\n",
    "        self.dt = dt\n",
    "        self.dx = L/N\n",
    "        self.tmax = tmax\n",
    "        self.chalf = np.linspace(-L,L,int(2*N+1))\n",
    "        self.cspan = np.linspace(-L + self.dx/2, L - self.dx/2, int(2*N))\n",
    "        self.rho = [init_rho]\n",
    "        \n",
    "    def disc_laplacian(self,f):\n",
    "        lap = np.zeros(len(f))\n",
    "        lap[1:-1] = (f[2:] - 2*f[1:-1] + f[:-2])/self.dx**2\n",
    "        lap[0] = (f[1] - f[0])/self.dx**2\n",
    "        lap[-1] = (-f[-1] + f[-2])/self.dx**2\n",
    "        return lap\n",
    "    \n",
    "    \n",
    "    def velocities(self,h):\n",
    "        return (h[1:]-h[:-1])/self.dx\n",
    "    \n",
    "    def flux(self,v,g):\n",
    "        zero_vec = np.zeros(len(v))\n",
    "        F = np.maximum(g[1:],zero_vec)*np.maximum(v,zero_vec) + np.maximum(g[:-1],zero_vec)*np.minimum(v,zero_vec)\n",
    "        return np.concatenate([[0],F,[0]])\n",
    "    \n",
    "    \n",
    "    def grad(self,t,x):\n",
    "        x_ex = np.concatenate([[x[i] for i in range(len(x)-self.kperiod,len(x))],x,[x[i] for i in range(0,self.kperiod)]])\n",
    "        h =  self.disc_laplacian(x_ex)\n",
    "        vprev = - h - x_ex**(self.m - 1)*self.m/(self.m - 1)*(x_ex > 0)*self.chi\n",
    "        F = self.flux(self.velocities(vprev),x_ex)\n",
    "        dFdx = (F[1:]-F[:-1])/self.dx\n",
    "        return dFdx[self.kperiod:len(dFdx) - self.kperiod]\n",
    "    \n",
    "    def solve(self):\n",
    "        solODE = ode(self.grad).set_integrator('vode') \n",
    "        #solODE = ode(self.grad).set_integrator('dopri5') # for RK4 \n",
    "        solODE.set_initial_value(self.rho[-1],0)\n",
    "        t = 0\n",
    "        tspan = [t]\n",
    "        while t < self.tmax:\n",
    "            print('t = %.6f'% t,end = '\\r')\n",
    "            t += self.dt\n",
    "            solODE.integrate(t)\n",
    "            self.rho.append(solODE.y)\n",
    "            tspan.append(solODE.t)\n",
    "        return np.array(self.rho), np.array(tspan)\n",
    "    \n",
    "def energy(rho,xspan,chi,m):\n",
    "    dx = xspan[1] - xspan[0]\n",
    "    return .5*np.array([np.sum(np.gradient(r,xspan)**2)*dx for r in rho_sol]) - chi/(m-1)*np.array([np.sum(r**m)*dx for r in rho_sol])\n"
   ]
  },
  {
   "cell_type": "code",
   "execution_count": 6,
   "metadata": {},
   "outputs": [
    {
     "name": "stdout",
     "output_type": "stream",
     "text": [
      "1.0\n",
      "t = 1.000000\r"
     ]
    }
   ],
   "source": [
    "L = 3\n",
    "N = 60\n",
    "\n",
    "\n",
    "dt = 1e-4\n",
    "m = 2.5\n",
    "\n",
    "tmax = 1\n",
    "dx = L/N\n",
    "\n",
    "xspan = np.linspace(-L + dx/2, L - dx/2, int(2*N))\n",
    "\n",
    "chi = 1\n",
    "\n",
    "init_rho = (np.ones(int(2*N))*((abs(xspan) < L/4)) + 0.001*ran.uniform(-1,1,int(2*N))*((abs(xspan) < L/4)))*.1\n",
    "init_rho /= np.sum(init_rho)*dx\n",
    "print(np.sum(init_rho)*dx) # mass set to one\n",
    "\n",
    "solver = CH1species(L,N,dt,init_rho,tmax,m,chi)\n",
    "rho_sol, tspan = solver.solve()"
   ]
  },
  {
   "cell_type": "code",
   "execution_count": 7,
   "metadata": {},
   "outputs": [
    {
     "name": "stdout",
     "output_type": "stream",
     "text": [
      "10002\n"
     ]
    },
    {
     "data": {
      "image/png": "[encoded data removed]",
      "text/plain": [
       "<Figure size 360x288 with 1 Axes>"
      ]
     },
     "metadata": {
      "needs_background": "light"
     },
     "output_type": "display_data"
    }
   ],
   "source": [
    "print(len(rho_sol))\n",
    "#indexes = [100*i for i in range(10)]\n",
    "indexes = [0,-1]\n",
    "plt.figure(figsize = (5,4))\n",
    "plt.xlim(-L,L)\n",
    "#plt.ylim(0,1)\n",
    "plt.xlabel('$x$')\n",
    "plt.ylabel('$\\\\rho(x,t)$')\n",
    "for i in indexes:\n",
    "    plt.plot(solver.cspan,rho_sol[i],color = 'black',linewidth = .8)\n",
    "plt.show()"
   ]
  },
  {
   "cell_type": "code",
   "execution_count": null,
   "metadata": {},
   "outputs": [],
   "source": [
    "plt.plot(energy(rho_sol,xspan,chi,m))\n",
    "plt.ylim(-.25,1)\n",
    "plt.xscale('log')\n",
    "plt.show()"
   ]
  },
  {
   "cell_type": "code",
   "execution_count": null,
   "metadata": {},
   "outputs": [],
   "source": []
  }
 ],
 "metadata": {
  "kernelspec": {
   "display_name": "Python 3 (ipykernel)",
   "language": "python",
   "name": "python3"
  },
  "language_info": {
   "codemirror_mode": {
    "name": "ipython",
    "version": 3
   },
   "file_extension": ".py",
   "mimetype": "text/x-python",
   "name": "python",
   "nbconvert_exporter": "python",
   "pygments_lexer": "ipython3",
   "version": "3.9.7"
  }
 },
 "nbformat": 4,
 "nbformat_minor": 4
}
